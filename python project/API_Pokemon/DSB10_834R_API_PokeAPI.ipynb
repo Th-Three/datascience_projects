{
  "nbformat": 4,
  "nbformat_minor": 0,
  "metadata": {
    "colab": {
      "provenance": []
    },
    "kernelspec": {
      "name": "python3",
      "display_name": "Python 3"
    },
    "language_info": {
      "name": "python"
    }
  },
  "cells": [
    {
      "cell_type": "markdown",
      "source": [
        "# Fetch the pokemon data from PokeAPI\n",
        "## Steps\n",
        "- connect to PokeAPI\n",
        "- find how many Mythical pokemon\n",
        "- fetch into simple list\n",
        "- save as csv\n",
        "\n",
        "\n",
        "## Notices\n",
        "From simple research, I found 23 mythical pokemons as of now (up to 9th Generation [Violet & Scarlet])\\\n",
        "From serebii.net, the national pokedex no. of these pokemons are:\\\n",
        "151, 251, 385, 386, 489,\\\n",
        "490, 491, 492, 493, 494,\\\n",
        "647, 648, 649, 719, 720,\\\n",
        "721, 801, 802, 807, 808,\\\n",
        "809, 893, and 1025.\\\n",
        "We can start from this list of no."
      ],
      "metadata": {
        "id": "ZL8KZAh66m-p"
      }
    },
    {
      "cell_type": "code",
      "source": [
        "from requests import get\n",
        "from time import sleep\n",
        "\n",
        "#create the list of the mythical pokemons no.\n",
        "mythical_pokemons_no = [151, 251, 385, 386, 489, 490, 491, 492, 493, 494, 647, 648, 649, 719, 720, 721, 801, 802, 807, 808, 809, 893, 1025]\n",
        "\n",
        "#assign start url\n",
        "start_url = \"https://pokeapi.co/api/v2/pokemon-form\"\n",
        "\n",
        "#create string for input types incase morethan 1 type\n",
        "poketypes_string = \"\"\n",
        "\n",
        "#create empty list for keeping pokemon data\n",
        "pokemons_data = []\n",
        "\n",
        "#create the loop to fecth the pokemon from api\n",
        "for pokemon_no in mythical_pokemons_no:\n",
        "  #get the data from API\n",
        "  formresponse = get(start_url+\"/\"+str(pokemon_no))\n",
        "  #convert form response to json\n",
        "  pokemonmythform = formresponse.json()\n",
        "\n",
        "  #save id and name\n",
        "  pokeid = pokemonmythform['id']\n",
        "  pokename = pokemonmythform['name']\n",
        "\n",
        "  #save types (some pokemon have more than 1 type)\n",
        "  for poketype in pokemonmythform['types']:\n",
        "    poketypes_string += poketype['type']['name'] + \" \"\n",
        "\n",
        "  #cutout extra space at the end of poketypes_string\n",
        "  poketypes_string = poketypes_string[:-1]\n",
        "\n",
        "  #save sprite url from the 'fron_default'\n",
        "  sprites_url = pokemonmythform['sprites']['front_default']\n",
        "\n",
        "  #save the data into list\n",
        "  pokemon_data = [pokeid, pokename, poketypes_string, sprites_url]\n",
        "  pokemons_data.append(pokemon_data)\n",
        "\n",
        "  #reset the poketypes_string\n",
        "  poketypes_string = \"\"\n",
        "\n",
        "  #sleep for 2 second\n",
        "  sleep(2)\n"
      ],
      "metadata": {
        "id": "3F_Ei-wu9-Xw"
      },
      "execution_count": 50,
      "outputs": []
    },
    {
      "cell_type": "code",
      "source": [
        "pokemons_data"
      ],
      "metadata": {
        "colab": {
          "base_uri": "https://localhost:8080/"
        },
        "id": "ZcrCcuela-jg",
        "outputId": "a62a16a7-8586-43e2-d7e4-4c2918d9e817"
      },
      "execution_count": 51,
      "outputs": [
        {
          "output_type": "execute_result",
          "data": {
            "text/plain": [
              "[[151,\n",
              "  'mew',\n",
              "  'psychic',\n",
              "  'https://raw.githubusercontent.com/PokeAPI/sprites/master/sprites/pokemon/151.png'],\n",
              " [251,\n",
              "  'celebi',\n",
              "  'psychic grass',\n",
              "  'https://raw.githubusercontent.com/PokeAPI/sprites/master/sprites/pokemon/251.png'],\n",
              " [385,\n",
              "  'jirachi',\n",
              "  'steel psychic',\n",
              "  'https://raw.githubusercontent.com/PokeAPI/sprites/master/sprites/pokemon/385.png'],\n",
              " [386,\n",
              "  'deoxys-normal',\n",
              "  'psychic',\n",
              "  'https://raw.githubusercontent.com/PokeAPI/sprites/master/sprites/pokemon/386.png'],\n",
              " [489,\n",
              "  'phione',\n",
              "  'water',\n",
              "  'https://raw.githubusercontent.com/PokeAPI/sprites/master/sprites/pokemon/489.png'],\n",
              " [490,\n",
              "  'manaphy',\n",
              "  'water',\n",
              "  'https://raw.githubusercontent.com/PokeAPI/sprites/master/sprites/pokemon/490.png'],\n",
              " [491,\n",
              "  'darkrai',\n",
              "  'dark',\n",
              "  'https://raw.githubusercontent.com/PokeAPI/sprites/master/sprites/pokemon/491.png'],\n",
              " [492,\n",
              "  'shaymin-land',\n",
              "  'grass',\n",
              "  'https://raw.githubusercontent.com/PokeAPI/sprites/master/sprites/pokemon/492.png'],\n",
              " [493,\n",
              "  'arceus-normal',\n",
              "  'normal',\n",
              "  'https://raw.githubusercontent.com/PokeAPI/sprites/master/sprites/pokemon/493.png'],\n",
              " [494,\n",
              "  'victini',\n",
              "  'psychic fire',\n",
              "  'https://raw.githubusercontent.com/PokeAPI/sprites/master/sprites/pokemon/494.png'],\n",
              " [647,\n",
              "  'keldeo-ordinary',\n",
              "  'water fighting',\n",
              "  'https://raw.githubusercontent.com/PokeAPI/sprites/master/sprites/pokemon/647.png'],\n",
              " [648,\n",
              "  'meloetta-aria',\n",
              "  'normal psychic',\n",
              "  'https://raw.githubusercontent.com/PokeAPI/sprites/master/sprites/pokemon/648.png'],\n",
              " [649,\n",
              "  'genesect',\n",
              "  'bug steel',\n",
              "  'https://raw.githubusercontent.com/PokeAPI/sprites/master/sprites/pokemon/649.png'],\n",
              " [719,\n",
              "  'diancie',\n",
              "  'rock fairy',\n",
              "  'https://raw.githubusercontent.com/PokeAPI/sprites/master/sprites/pokemon/719.png'],\n",
              " [720,\n",
              "  'hoopa',\n",
              "  'psychic ghost',\n",
              "  'https://raw.githubusercontent.com/PokeAPI/sprites/master/sprites/pokemon/720.png'],\n",
              " [721,\n",
              "  'volcanion',\n",
              "  'fire water',\n",
              "  'https://raw.githubusercontent.com/PokeAPI/sprites/master/sprites/pokemon/721.png'],\n",
              " [801,\n",
              "  'magearna',\n",
              "  'steel fairy',\n",
              "  'https://raw.githubusercontent.com/PokeAPI/sprites/master/sprites/pokemon/801.png'],\n",
              " [802,\n",
              "  'marshadow',\n",
              "  'fighting ghost',\n",
              "  'https://raw.githubusercontent.com/PokeAPI/sprites/master/sprites/pokemon/802.png'],\n",
              " [807,\n",
              "  'zeraora',\n",
              "  'electric',\n",
              "  'https://raw.githubusercontent.com/PokeAPI/sprites/master/sprites/pokemon/807.png'],\n",
              " [808,\n",
              "  'meltan',\n",
              "  'steel',\n",
              "  'https://raw.githubusercontent.com/PokeAPI/sprites/master/sprites/pokemon/808.png'],\n",
              " [809,\n",
              "  'melmetal',\n",
              "  'steel',\n",
              "  'https://raw.githubusercontent.com/PokeAPI/sprites/master/sprites/pokemon/809.png'],\n",
              " [893,\n",
              "  'zarude',\n",
              "  'dark grass',\n",
              "  'https://raw.githubusercontent.com/PokeAPI/sprites/master/sprites/pokemon/893.png'],\n",
              " [1025,\n",
              "  'pecharunt',\n",
              "  'poison ghost',\n",
              "  'https://raw.githubusercontent.com/PokeAPI/sprites/master/sprites/pokemon/1025.png']]"
            ]
          },
          "metadata": {},
          "execution_count": 51
        }
      ]
    },
    {
      "cell_type": "code",
      "source": [
        "import csv\n",
        "#create the csv file from pokemons_data\n",
        "headers_data = ['id', 'name', 'types', 'sprites_url']\n",
        "\n",
        "with open('mythical_pokemons.csv', 'w', encoding='UTF8', newline='') as f:\n",
        "    writer = csv.writer(f)\n",
        "    writer.writerow(headers_data)\n",
        "    writer.writerows(pokemons_data)"
      ],
      "metadata": {
        "id": "xx4hze9HVgzu"
      },
      "execution_count": 52,
      "outputs": []
    },
    {
      "cell_type": "code",
      "source": [
        "!cat mythical_pokemons.csv"
      ],
      "metadata": {
        "colab": {
          "base_uri": "https://localhost:8080/"
        },
        "id": "2A6PNGJfb-dq",
        "outputId": "670e8c87-78df-456f-b537-8d17ed9f8f0b"
      },
      "execution_count": 53,
      "outputs": [
        {
          "output_type": "stream",
          "name": "stdout",
          "text": [
            "id,name,types,sprites_url\r\n",
            "151,mew,psychic,https://raw.githubusercontent.com/PokeAPI/sprites/master/sprites/pokemon/151.png\r\n",
            "251,celebi,psychic grass,https://raw.githubusercontent.com/PokeAPI/sprites/master/sprites/pokemon/251.png\r\n",
            "385,jirachi,steel psychic,https://raw.githubusercontent.com/PokeAPI/sprites/master/sprites/pokemon/385.png\r\n",
            "386,deoxys-normal,psychic,https://raw.githubusercontent.com/PokeAPI/sprites/master/sprites/pokemon/386.png\r\n",
            "489,phione,water,https://raw.githubusercontent.com/PokeAPI/sprites/master/sprites/pokemon/489.png\r\n",
            "490,manaphy,water,https://raw.githubusercontent.com/PokeAPI/sprites/master/sprites/pokemon/490.png\r\n",
            "491,darkrai,dark,https://raw.githubusercontent.com/PokeAPI/sprites/master/sprites/pokemon/491.png\r\n",
            "492,shaymin-land,grass,https://raw.githubusercontent.com/PokeAPI/sprites/master/sprites/pokemon/492.png\r\n",
            "493,arceus-normal,normal,https://raw.githubusercontent.com/PokeAPI/sprites/master/sprites/pokemon/493.png\r\n",
            "494,victini,psychic fire,https://raw.githubusercontent.com/PokeAPI/sprites/master/sprites/pokemon/494.png\r\n",
            "647,keldeo-ordinary,water fighting,https://raw.githubusercontent.com/PokeAPI/sprites/master/sprites/pokemon/647.png\r\n",
            "648,meloetta-aria,normal psychic,https://raw.githubusercontent.com/PokeAPI/sprites/master/sprites/pokemon/648.png\r\n",
            "649,genesect,bug steel,https://raw.githubusercontent.com/PokeAPI/sprites/master/sprites/pokemon/649.png\r\n",
            "719,diancie,rock fairy,https://raw.githubusercontent.com/PokeAPI/sprites/master/sprites/pokemon/719.png\r\n",
            "720,hoopa,psychic ghost,https://raw.githubusercontent.com/PokeAPI/sprites/master/sprites/pokemon/720.png\r\n",
            "721,volcanion,fire water,https://raw.githubusercontent.com/PokeAPI/sprites/master/sprites/pokemon/721.png\r\n",
            "801,magearna,steel fairy,https://raw.githubusercontent.com/PokeAPI/sprites/master/sprites/pokemon/801.png\r\n",
            "802,marshadow,fighting ghost,https://raw.githubusercontent.com/PokeAPI/sprites/master/sprites/pokemon/802.png\r\n",
            "807,zeraora,electric,https://raw.githubusercontent.com/PokeAPI/sprites/master/sprites/pokemon/807.png\r\n",
            "808,meltan,steel,https://raw.githubusercontent.com/PokeAPI/sprites/master/sprites/pokemon/808.png\r\n",
            "809,melmetal,steel,https://raw.githubusercontent.com/PokeAPI/sprites/master/sprites/pokemon/809.png\r\n",
            "893,zarude,dark grass,https://raw.githubusercontent.com/PokeAPI/sprites/master/sprites/pokemon/893.png\r\n",
            "1025,pecharunt,poison ghost,https://raw.githubusercontent.com/PokeAPI/sprites/master/sprites/pokemon/1025.png\r\n"
          ]
        }
      ]
    }
  ]
}