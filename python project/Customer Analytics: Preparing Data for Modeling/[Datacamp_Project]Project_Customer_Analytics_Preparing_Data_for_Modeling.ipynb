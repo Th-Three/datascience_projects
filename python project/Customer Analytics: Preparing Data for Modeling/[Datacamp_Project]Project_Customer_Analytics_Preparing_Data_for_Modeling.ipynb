{
  "cells": [
    {
      "cell_type": "markdown",
      "metadata": {
        "id": "view-in-github",
        "colab_type": "text"
      },
      "source": [
        "<a href=\"https://colab.research.google.com/github/Th-Three/datascience_projects/blob/main/python%20project/Customer%20Analytics%3A%20Preparing%20Data%20for%20Modeling/%5BDatacamp_Project%5DProject_Customer_Analytics_Preparing_Data_for_Modeling.ipynb\" target=\"_parent\"><img src=\"https://colab.research.google.com/assets/colab-badge.svg\" alt=\"Open In Colab\"/></a>"
      ]
    },
    {
      "source": [
        "# Customer Analytics: Preparing Data for Modeling\n",
        "\n",
        "Date: 17 October 2024\n",
        "\n",
        "Written by: Thanaphop Threethipthikoon\n",
        "\n",
        "Project source provided by: Datacamp\n",
        "\n",
        "\n",
        "A common problem when creating models to generate business value from data is that the datasets can be so large that it can take days for the model to generate predictions. Ensuring that your dataset is stored as efficiently as possible is crucial for allowing these models to run on a more reasonable timescale without having to reduce the size of the dataset.\n",
        "\n",
        "You've been hired by a major online data science training provider called *Training Data Ltd.* to clean up one of their largest customer datasets. This dataset will eventually be used to predict whether their students are looking for a new job or not, information that they will then use to direct them to prospective recruiters.\n",
        "\n",
        "You've been given access to `customer_train.csv`, which is a subset of their entire customer dataset, so you can create a proof-of-concept of a much more efficient storage solution. The dataset contains anonymized student information, and whether they were looking for a new job or not during training:\n",
        "\n",
        "| Column                   | Description                                                                      |\n",
        "|------------------------- |--------------------------------------------------------------------------------- |\n",
        "| `student_id`             | A unique ID for each student.                                                    |\n",
        "| `city`                   | A code for the city the student lives in.                                        |\n",
        "| `city_development_index` | A scaled development index for the city.                                         |\n",
        "| `gender`                 | The student's gender.                                                            |\n",
        "| `relevant_experience`    | An indicator of the student's work relevant experience.                          |\n",
        "| `enrolled_university`    | The type of university course enrolled in (if any).                              |\n",
        "| `education_level`        | The student's education level.                                                   |\n",
        "| `major_discipline`       | The educational discipline of the student.                                       |\n",
        "| `experience`             | The student's total work experience (in years).                                  |\n",
        "| `company_size`           | The number of employees at the student's current employer.                       |\n",
        "| `company_type`           | The type of company employing the student.                                       |\n",
        "| `last_new_job`           | The number of years between the student's current and previous jobs.             |\n",
        "| `training_hours`         | The number of hours of training completed.                                       |\n",
        "| `job_change`             | An indicator of whether the student is looking for a new job (`1`) or not (`0`). |"
      ],
      "metadata": {
        "id": "a09e6d54-bf3f-4632-b299-bd49d5c80d5f"
      },
      "id": "a09e6d54-bf3f-4632-b299-bd49d5c80d5f",
      "cell_type": "markdown"
    },
    {
      "cell_type": "markdown",
      "source": [
        "#Problem statements\n",
        "\n",
        "The Head Data Scientist at Training Data Ltd. has asked you to create a DataFrame called `ds_jobs_transformed` that stores the data in `customer_train.csv` much more efficiently. Specifically, they have set the following requirements:\n",
        "\n",
        "- Columns containing categories with only two factors must be stored as Booleans (`bool`).\n",
        "- Columns containing integers only must be stored as 32-bit integers (`int32`).\n",
        "- Columns containing floats must be stored as 16-bit floats (`float16`).\n",
        "- Columns containing nominal categorical data must be stored as the category data type.\n",
        "- Columns containing ordinal categorical data must be stored as ordered categories, and not mapped to numerical values, with an order that reflects the natural order of the column.\n",
        "- The DataFrame should be filtered to only contain students with 10 or more years of experience at companies with at least 1000 employees, as their recruiter base is suited to more experienced professionals at enterprise companies.\n",
        "\n",
        "If you call `.info()` or `.memory_usage()` methods on `ds_jobs` and `ds_jobs_transformed` after you've preprocessed it, you should notice a substantial decrease in memory usage."
      ],
      "metadata": {
        "id": "a5WLTjtPR_sJ"
      },
      "id": "a5WLTjtPR_sJ"
    },
    {
      "source": [
        "# Import necessary libraries\n",
        "import pandas as pd\n",
        "\n",
        "# Load the dataset\n",
        "ds_jobs = pd.read_csv(\"customer_train.csv\")\n",
        "\n",
        "# View the dataset\n",
        "ds_jobs.head()"
      ],
      "metadata": {
        "executionCancelledAt": null,
        "executionTime": 67,
        "lastExecutedAt": 1729162735225,
        "lastExecutedByKernel": "1e4465b3-6381-4372-ba28-cec700f557bd",
        "lastScheduledRunId": null,
        "lastSuccessfullyExecutedCode": "# Import necessary libraries\nimport pandas as pd\n\n# Load the dataset\nds_jobs = pd.read_csv(\"customer_train.csv\")\n\n# View the dataset\nds_jobs.head()",
        "outputsMetadata": {
          "0": {
            "height": 266,
            "type": "dataFrame"
          }
        },
        "colab": {
          "base_uri": "https://localhost:8080/",
          "height": 0
        },
        "id": "eda9c1b2-4e9a-41ac-8da6-d4c98775f986",
        "outputId": "0aa960da-26e3-438c-ff69-e470d3b7dfd4"
      },
      "id": "eda9c1b2-4e9a-41ac-8da6-d4c98775f986",
      "cell_type": "code",
      "execution_count": 53,
      "outputs": [
        {
          "output_type": "execute_result",
          "data": {
            "text/plain": [
              "   student_id      city  city_development_index gender  \\\n",
              "0        8949  city_103                   0.920   Male   \n",
              "1       29725   city_40                   0.776   Male   \n",
              "2       11561   city_21                   0.624    NaN   \n",
              "3       33241  city_115                   0.789    NaN   \n",
              "4         666  city_162                   0.767   Male   \n",
              "\n",
              "       relevant_experience enrolled_university education_level  \\\n",
              "0  Has relevant experience       no_enrollment        Graduate   \n",
              "1   No relevant experience       no_enrollment        Graduate   \n",
              "2   No relevant experience    Full time course        Graduate   \n",
              "3   No relevant experience                 NaN        Graduate   \n",
              "4  Has relevant experience       no_enrollment         Masters   \n",
              "\n",
              "  major_discipline experience company_size    company_type last_new_job  \\\n",
              "0             STEM        >20          NaN             NaN            1   \n",
              "1             STEM         15        50-99         Pvt Ltd           >4   \n",
              "2             STEM          5          NaN             NaN        never   \n",
              "3  Business Degree         <1          NaN         Pvt Ltd        never   \n",
              "4             STEM        >20        50-99  Funded Startup            4   \n",
              "\n",
              "   training_hours  job_change  \n",
              "0              36         1.0  \n",
              "1              47         0.0  \n",
              "2              83         0.0  \n",
              "3              52         1.0  \n",
              "4               8         0.0  "
            ],
            "text/html": [
              "\n",
              "  <div id=\"df-36cdf2e8-8792-4ba4-913d-ba986279de03\" class=\"colab-df-container\">\n",
              "    <div>\n",
              "<style scoped>\n",
              "    .dataframe tbody tr th:only-of-type {\n",
              "        vertical-align: middle;\n",
              "    }\n",
              "\n",
              "    .dataframe tbody tr th {\n",
              "        vertical-align: top;\n",
              "    }\n",
              "\n",
              "    .dataframe thead th {\n",
              "        text-align: right;\n",
              "    }\n",
              "</style>\n",
              "<table border=\"1\" class=\"dataframe\">\n",
              "  <thead>\n",
              "    <tr style=\"text-align: right;\">\n",
              "      <th></th>\n",
              "      <th>student_id</th>\n",
              "      <th>city</th>\n",
              "      <th>city_development_index</th>\n",
              "      <th>gender</th>\n",
              "      <th>relevant_experience</th>\n",
              "      <th>enrolled_university</th>\n",
              "      <th>education_level</th>\n",
              "      <th>major_discipline</th>\n",
              "      <th>experience</th>\n",
              "      <th>company_size</th>\n",
              "      <th>company_type</th>\n",
              "      <th>last_new_job</th>\n",
              "      <th>training_hours</th>\n",
              "      <th>job_change</th>\n",
              "    </tr>\n",
              "  </thead>\n",
              "  <tbody>\n",
              "    <tr>\n",
              "      <th>0</th>\n",
              "      <td>8949</td>\n",
              "      <td>city_103</td>\n",
              "      <td>0.920</td>\n",
              "      <td>Male</td>\n",
              "      <td>Has relevant experience</td>\n",
              "      <td>no_enrollment</td>\n",
              "      <td>Graduate</td>\n",
              "      <td>STEM</td>\n",
              "      <td>&gt;20</td>\n",
              "      <td>NaN</td>\n",
              "      <td>NaN</td>\n",
              "      <td>1</td>\n",
              "      <td>36</td>\n",
              "      <td>1.0</td>\n",
              "    </tr>\n",
              "    <tr>\n",
              "      <th>1</th>\n",
              "      <td>29725</td>\n",
              "      <td>city_40</td>\n",
              "      <td>0.776</td>\n",
              "      <td>Male</td>\n",
              "      <td>No relevant experience</td>\n",
              "      <td>no_enrollment</td>\n",
              "      <td>Graduate</td>\n",
              "      <td>STEM</td>\n",
              "      <td>15</td>\n",
              "      <td>50-99</td>\n",
              "      <td>Pvt Ltd</td>\n",
              "      <td>&gt;4</td>\n",
              "      <td>47</td>\n",
              "      <td>0.0</td>\n",
              "    </tr>\n",
              "    <tr>\n",
              "      <th>2</th>\n",
              "      <td>11561</td>\n",
              "      <td>city_21</td>\n",
              "      <td>0.624</td>\n",
              "      <td>NaN</td>\n",
              "      <td>No relevant experience</td>\n",
              "      <td>Full time course</td>\n",
              "      <td>Graduate</td>\n",
              "      <td>STEM</td>\n",
              "      <td>5</td>\n",
              "      <td>NaN</td>\n",
              "      <td>NaN</td>\n",
              "      <td>never</td>\n",
              "      <td>83</td>\n",
              "      <td>0.0</td>\n",
              "    </tr>\n",
              "    <tr>\n",
              "      <th>3</th>\n",
              "      <td>33241</td>\n",
              "      <td>city_115</td>\n",
              "      <td>0.789</td>\n",
              "      <td>NaN</td>\n",
              "      <td>No relevant experience</td>\n",
              "      <td>NaN</td>\n",
              "      <td>Graduate</td>\n",
              "      <td>Business Degree</td>\n",
              "      <td>&lt;1</td>\n",
              "      <td>NaN</td>\n",
              "      <td>Pvt Ltd</td>\n",
              "      <td>never</td>\n",
              "      <td>52</td>\n",
              "      <td>1.0</td>\n",
              "    </tr>\n",
              "    <tr>\n",
              "      <th>4</th>\n",
              "      <td>666</td>\n",
              "      <td>city_162</td>\n",
              "      <td>0.767</td>\n",
              "      <td>Male</td>\n",
              "      <td>Has relevant experience</td>\n",
              "      <td>no_enrollment</td>\n",
              "      <td>Masters</td>\n",
              "      <td>STEM</td>\n",
              "      <td>&gt;20</td>\n",
              "      <td>50-99</td>\n",
              "      <td>Funded Startup</td>\n",
              "      <td>4</td>\n",
              "      <td>8</td>\n",
              "      <td>0.0</td>\n",
              "    </tr>\n",
              "  </tbody>\n",
              "</table>\n",
              "</div>\n",
              "    <div class=\"colab-df-buttons\">\n",
              "\n",
              "  <div class=\"colab-df-container\">\n",
              "    <button class=\"colab-df-convert\" onclick=\"convertToInteractive('df-36cdf2e8-8792-4ba4-913d-ba986279de03')\"\n",
              "            title=\"Convert this dataframe to an interactive table.\"\n",
              "            style=\"display:none;\">\n",
              "\n",
              "  <svg xmlns=\"http://www.w3.org/2000/svg\" height=\"24px\" viewBox=\"0 -960 960 960\">\n",
              "    <path d=\"M120-120v-720h720v720H120Zm60-500h600v-160H180v160Zm220 220h160v-160H400v160Zm0 220h160v-160H400v160ZM180-400h160v-160H180v160Zm440 0h160v-160H620v160ZM180-180h160v-160H180v160Zm440 0h160v-160H620v160Z\"/>\n",
              "  </svg>\n",
              "    </button>\n",
              "\n",
              "  <style>\n",
              "    .colab-df-container {\n",
              "      display:flex;\n",
              "      gap: 12px;\n",
              "    }\n",
              "\n",
              "    .colab-df-convert {\n",
              "      background-color: #E8F0FE;\n",
              "      border: none;\n",
              "      border-radius: 50%;\n",
              "      cursor: pointer;\n",
              "      display: none;\n",
              "      fill: #1967D2;\n",
              "      height: 32px;\n",
              "      padding: 0 0 0 0;\n",
              "      width: 32px;\n",
              "    }\n",
              "\n",
              "    .colab-df-convert:hover {\n",
              "      background-color: #E2EBFA;\n",
              "      box-shadow: 0px 1px 2px rgba(60, 64, 67, 0.3), 0px 1px 3px 1px rgba(60, 64, 67, 0.15);\n",
              "      fill: #174EA6;\n",
              "    }\n",
              "\n",
              "    .colab-df-buttons div {\n",
              "      margin-bottom: 4px;\n",
              "    }\n",
              "\n",
              "    [theme=dark] .colab-df-convert {\n",
              "      background-color: #3B4455;\n",
              "      fill: #D2E3FC;\n",
              "    }\n",
              "\n",
              "    [theme=dark] .colab-df-convert:hover {\n",
              "      background-color: #434B5C;\n",
              "      box-shadow: 0px 1px 3px 1px rgba(0, 0, 0, 0.15);\n",
              "      filter: drop-shadow(0px 1px 2px rgba(0, 0, 0, 0.3));\n",
              "      fill: #FFFFFF;\n",
              "    }\n",
              "  </style>\n",
              "\n",
              "    <script>\n",
              "      const buttonEl =\n",
              "        document.querySelector('#df-36cdf2e8-8792-4ba4-913d-ba986279de03 button.colab-df-convert');\n",
              "      buttonEl.style.display =\n",
              "        google.colab.kernel.accessAllowed ? 'block' : 'none';\n",
              "\n",
              "      async function convertToInteractive(key) {\n",
              "        const element = document.querySelector('#df-36cdf2e8-8792-4ba4-913d-ba986279de03');\n",
              "        const dataTable =\n",
              "          await google.colab.kernel.invokeFunction('convertToInteractive',\n",
              "                                                    [key], {});\n",
              "        if (!dataTable) return;\n",
              "\n",
              "        const docLinkHtml = 'Like what you see? Visit the ' +\n",
              "          '<a target=\"_blank\" href=https://colab.research.google.com/notebooks/data_table.ipynb>data table notebook</a>'\n",
              "          + ' to learn more about interactive tables.';\n",
              "        element.innerHTML = '';\n",
              "        dataTable['output_type'] = 'display_data';\n",
              "        await google.colab.output.renderOutput(dataTable, element);\n",
              "        const docLink = document.createElement('div');\n",
              "        docLink.innerHTML = docLinkHtml;\n",
              "        element.appendChild(docLink);\n",
              "      }\n",
              "    </script>\n",
              "  </div>\n",
              "\n",
              "\n",
              "<div id=\"df-88ccead2-5092-4dcf-abcf-1c0856951174\">\n",
              "  <button class=\"colab-df-quickchart\" onclick=\"quickchart('df-88ccead2-5092-4dcf-abcf-1c0856951174')\"\n",
              "            title=\"Suggest charts\"\n",
              "            style=\"display:none;\">\n",
              "\n",
              "<svg xmlns=\"http://www.w3.org/2000/svg\" height=\"24px\"viewBox=\"0 0 24 24\"\n",
              "     width=\"24px\">\n",
              "    <g>\n",
              "        <path d=\"M19 3H5c-1.1 0-2 .9-2 2v14c0 1.1.9 2 2 2h14c1.1 0 2-.9 2-2V5c0-1.1-.9-2-2-2zM9 17H7v-7h2v7zm4 0h-2V7h2v10zm4 0h-2v-4h2v4z\"/>\n",
              "    </g>\n",
              "</svg>\n",
              "  </button>\n",
              "\n",
              "<style>\n",
              "  .colab-df-quickchart {\n",
              "      --bg-color: #E8F0FE;\n",
              "      --fill-color: #1967D2;\n",
              "      --hover-bg-color: #E2EBFA;\n",
              "      --hover-fill-color: #174EA6;\n",
              "      --disabled-fill-color: #AAA;\n",
              "      --disabled-bg-color: #DDD;\n",
              "  }\n",
              "\n",
              "  [theme=dark] .colab-df-quickchart {\n",
              "      --bg-color: #3B4455;\n",
              "      --fill-color: #D2E3FC;\n",
              "      --hover-bg-color: #434B5C;\n",
              "      --hover-fill-color: #FFFFFF;\n",
              "      --disabled-bg-color: #3B4455;\n",
              "      --disabled-fill-color: #666;\n",
              "  }\n",
              "\n",
              "  .colab-df-quickchart {\n",
              "    background-color: var(--bg-color);\n",
              "    border: none;\n",
              "    border-radius: 50%;\n",
              "    cursor: pointer;\n",
              "    display: none;\n",
              "    fill: var(--fill-color);\n",
              "    height: 32px;\n",
              "    padding: 0;\n",
              "    width: 32px;\n",
              "  }\n",
              "\n",
              "  .colab-df-quickchart:hover {\n",
              "    background-color: var(--hover-bg-color);\n",
              "    box-shadow: 0 1px 2px rgba(60, 64, 67, 0.3), 0 1px 3px 1px rgba(60, 64, 67, 0.15);\n",
              "    fill: var(--button-hover-fill-color);\n",
              "  }\n",
              "\n",
              "  .colab-df-quickchart-complete:disabled,\n",
              "  .colab-df-quickchart-complete:disabled:hover {\n",
              "    background-color: var(--disabled-bg-color);\n",
              "    fill: var(--disabled-fill-color);\n",
              "    box-shadow: none;\n",
              "  }\n",
              "\n",
              "  .colab-df-spinner {\n",
              "    border: 2px solid var(--fill-color);\n",
              "    border-color: transparent;\n",
              "    border-bottom-color: var(--fill-color);\n",
              "    animation:\n",
              "      spin 1s steps(1) infinite;\n",
              "  }\n",
              "\n",
              "  @keyframes spin {\n",
              "    0% {\n",
              "      border-color: transparent;\n",
              "      border-bottom-color: var(--fill-color);\n",
              "      border-left-color: var(--fill-color);\n",
              "    }\n",
              "    20% {\n",
              "      border-color: transparent;\n",
              "      border-left-color: var(--fill-color);\n",
              "      border-top-color: var(--fill-color);\n",
              "    }\n",
              "    30% {\n",
              "      border-color: transparent;\n",
              "      border-left-color: var(--fill-color);\n",
              "      border-top-color: var(--fill-color);\n",
              "      border-right-color: var(--fill-color);\n",
              "    }\n",
              "    40% {\n",
              "      border-color: transparent;\n",
              "      border-right-color: var(--fill-color);\n",
              "      border-top-color: var(--fill-color);\n",
              "    }\n",
              "    60% {\n",
              "      border-color: transparent;\n",
              "      border-right-color: var(--fill-color);\n",
              "    }\n",
              "    80% {\n",
              "      border-color: transparent;\n",
              "      border-right-color: var(--fill-color);\n",
              "      border-bottom-color: var(--fill-color);\n",
              "    }\n",
              "    90% {\n",
              "      border-color: transparent;\n",
              "      border-bottom-color: var(--fill-color);\n",
              "    }\n",
              "  }\n",
              "</style>\n",
              "\n",
              "  <script>\n",
              "    async function quickchart(key) {\n",
              "      const quickchartButtonEl =\n",
              "        document.querySelector('#' + key + ' button');\n",
              "      quickchartButtonEl.disabled = true;  // To prevent multiple clicks.\n",
              "      quickchartButtonEl.classList.add('colab-df-spinner');\n",
              "      try {\n",
              "        const charts = await google.colab.kernel.invokeFunction(\n",
              "            'suggestCharts', [key], {});\n",
              "      } catch (error) {\n",
              "        console.error('Error during call to suggestCharts:', error);\n",
              "      }\n",
              "      quickchartButtonEl.classList.remove('colab-df-spinner');\n",
              "      quickchartButtonEl.classList.add('colab-df-quickchart-complete');\n",
              "    }\n",
              "    (() => {\n",
              "      let quickchartButtonEl =\n",
              "        document.querySelector('#df-88ccead2-5092-4dcf-abcf-1c0856951174 button');\n",
              "      quickchartButtonEl.style.display =\n",
              "        google.colab.kernel.accessAllowed ? 'block' : 'none';\n",
              "    })();\n",
              "  </script>\n",
              "</div>\n",
              "\n",
              "    </div>\n",
              "  </div>\n"
            ],
            "application/vnd.google.colaboratory.intrinsic+json": {
              "type": "dataframe",
              "variable_name": "ds_jobs",
              "summary": "{\n  \"name\": \"ds_jobs\",\n  \"rows\": 19158,\n  \"fields\": [\n    {\n      \"column\": \"student_id\",\n      \"properties\": {\n        \"dtype\": \"number\",\n        \"std\": 9616,\n        \"min\": 1,\n        \"max\": 33380,\n        \"num_unique_values\": 19158,\n        \"samples\": [\n          6992,\n          8637,\n          24729\n        ],\n        \"semantic_type\": \"\",\n        \"description\": \"\"\n      }\n    },\n    {\n      \"column\": \"city\",\n      \"properties\": {\n        \"dtype\": \"category\",\n        \"num_unique_values\": 123,\n        \"samples\": [\n          \"city_64\",\n          \"city_70\",\n          \"city_94\"\n        ],\n        \"semantic_type\": \"\",\n        \"description\": \"\"\n      }\n    },\n    {\n      \"column\": \"city_development_index\",\n      \"properties\": {\n        \"dtype\": \"number\",\n        \"std\": 0.12336175686055084,\n        \"min\": 0.4479999999999999,\n        \"max\": 0.949,\n        \"num_unique_values\": 93,\n        \"samples\": [\n          0.775,\n          0.939,\n          0.738\n        ],\n        \"semantic_type\": \"\",\n        \"description\": \"\"\n      }\n    },\n    {\n      \"column\": \"gender\",\n      \"properties\": {\n        \"dtype\": \"category\",\n        \"num_unique_values\": 3,\n        \"samples\": [\n          \"Male\",\n          \"Female\",\n          \"Other\"\n        ],\n        \"semantic_type\": \"\",\n        \"description\": \"\"\n      }\n    },\n    {\n      \"column\": \"relevant_experience\",\n      \"properties\": {\n        \"dtype\": \"category\",\n        \"num_unique_values\": 2,\n        \"samples\": [\n          \"No relevant experience\",\n          \"Has relevant experience\"\n        ],\n        \"semantic_type\": \"\",\n        \"description\": \"\"\n      }\n    },\n    {\n      \"column\": \"enrolled_university\",\n      \"properties\": {\n        \"dtype\": \"category\",\n        \"num_unique_values\": 3,\n        \"samples\": [\n          \"no_enrollment\",\n          \"Full time course\"\n        ],\n        \"semantic_type\": \"\",\n        \"description\": \"\"\n      }\n    },\n    {\n      \"column\": \"education_level\",\n      \"properties\": {\n        \"dtype\": \"category\",\n        \"num_unique_values\": 5,\n        \"samples\": [\n          \"Masters\",\n          \"Primary School\"\n        ],\n        \"semantic_type\": \"\",\n        \"description\": \"\"\n      }\n    },\n    {\n      \"column\": \"major_discipline\",\n      \"properties\": {\n        \"dtype\": \"category\",\n        \"num_unique_values\": 6,\n        \"samples\": [\n          \"STEM\",\n          \"Business Degree\"\n        ],\n        \"semantic_type\": \"\",\n        \"description\": \"\"\n      }\n    },\n    {\n      \"column\": \"experience\",\n      \"properties\": {\n        \"dtype\": \"category\",\n        \"num_unique_values\": 22,\n        \"samples\": [\n          \">20\",\n          \"14\"\n        ],\n        \"semantic_type\": \"\",\n        \"description\": \"\"\n      }\n    },\n    {\n      \"column\": \"company_size\",\n      \"properties\": {\n        \"dtype\": \"category\",\n        \"num_unique_values\": 8,\n        \"samples\": [\n          \"<10\",\n          \"10-49\"\n        ],\n        \"semantic_type\": \"\",\n        \"description\": \"\"\n      }\n    },\n    {\n      \"column\": \"company_type\",\n      \"properties\": {\n        \"dtype\": \"category\",\n        \"num_unique_values\": 6,\n        \"samples\": [\n          \"Pvt Ltd\",\n          \"Funded Startup\"\n        ],\n        \"semantic_type\": \"\",\n        \"description\": \"\"\n      }\n    },\n    {\n      \"column\": \"last_new_job\",\n      \"properties\": {\n        \"dtype\": \"category\",\n        \"num_unique_values\": 6,\n        \"samples\": [\n          \"1\",\n          \">4\"\n        ],\n        \"semantic_type\": \"\",\n        \"description\": \"\"\n      }\n    },\n    {\n      \"column\": \"training_hours\",\n      \"properties\": {\n        \"dtype\": \"number\",\n        \"std\": 60,\n        \"min\": 1,\n        \"max\": 336,\n        \"num_unique_values\": 241,\n        \"samples\": [\n          40,\n          18\n        ],\n        \"semantic_type\": \"\",\n        \"description\": \"\"\n      }\n    },\n    {\n      \"column\": \"job_change\",\n      \"properties\": {\n        \"dtype\": \"number\",\n        \"std\": 0.4326466344563381,\n        \"min\": 0.0,\n        \"max\": 1.0,\n        \"num_unique_values\": 2,\n        \"samples\": [\n          0.0,\n          1.0\n        ],\n        \"semantic_type\": \"\",\n        \"description\": \"\"\n      }\n    }\n  ]\n}"
            }
          },
          "metadata": {},
          "execution_count": 53
        }
      ]
    },
    {
      "source": [
        "# Create a copy of ds_jobs for transforming\n",
        "ds_jobs_transformed = ds_jobs.copy()\n",
        "\n",
        "# Start coding here. Use as many cells as you like!\n",
        "# Explore the datatypes of the DataFrame\n",
        "ds_jobs_transformed.info()"
      ],
      "metadata": {
        "executionCancelledAt": null,
        "executionTime": 35,
        "lastExecutedAt": 1729162737437,
        "lastExecutedByKernel": "1e4465b3-6381-4372-ba28-cec700f557bd",
        "lastScheduledRunId": null,
        "lastSuccessfullyExecutedCode": "# Create a copy of ds_jobs for transforming\nds_jobs_transformed = ds_jobs.copy()\n\n# Start coding here. Use as many cells as you like!\nds_jobs_transformed.info()",
        "outputsMetadata": {
          "0": {
            "height": 458,
            "type": "stream"
          }
        },
        "colab": {
          "base_uri": "https://localhost:8080/"
        },
        "id": "13757e62-aca2-48f4-b569-a838af11bdd5",
        "outputId": "575c8e30-c13d-4d22-d66d-e5e55dbb37f8"
      },
      "id": "13757e62-aca2-48f4-b569-a838af11bdd5",
      "cell_type": "code",
      "execution_count": 54,
      "outputs": [
        {
          "output_type": "stream",
          "name": "stdout",
          "text": [
            "<class 'pandas.core.frame.DataFrame'>\n",
            "RangeIndex: 19158 entries, 0 to 19157\n",
            "Data columns (total 14 columns):\n",
            " #   Column                  Non-Null Count  Dtype  \n",
            "---  ------                  --------------  -----  \n",
            " 0   student_id              19158 non-null  int64  \n",
            " 1   city                    19158 non-null  object \n",
            " 2   city_development_index  19158 non-null  float64\n",
            " 3   gender                  14650 non-null  object \n",
            " 4   relevant_experience     19158 non-null  object \n",
            " 5   enrolled_university     18772 non-null  object \n",
            " 6   education_level         18698 non-null  object \n",
            " 7   major_discipline        16345 non-null  object \n",
            " 8   experience              19093 non-null  object \n",
            " 9   company_size            13220 non-null  object \n",
            " 10  company_type            13018 non-null  object \n",
            " 11  last_new_job            18735 non-null  object \n",
            " 12  training_hours          19158 non-null  int64  \n",
            " 13  job_change              19158 non-null  float64\n",
            "dtypes: float64(2), int64(2), object(10)\n",
            "memory usage: 2.0+ MB\n"
          ]
        }
      ]
    },
    {
      "cell_type": "markdown",
      "source": [
        "##Prepare the two factor column"
      ],
      "metadata": {
        "id": "env_3olcR26e"
      },
      "id": "env_3olcR26e"
    },
    {
      "cell_type": "code",
      "source": [
        "#Find the columns with 2 unique values\n",
        "ds_jobs_transformed.nunique()[ds_jobs_transformed.nunique() == 2].index"
      ],
      "metadata": {
        "colab": {
          "base_uri": "https://localhost:8080/"
        },
        "id": "Q7XZy_FeTkG_",
        "outputId": "3ac514c4-9033-4e38-d7cb-00fef4221328"
      },
      "id": "Q7XZy_FeTkG_",
      "execution_count": 55,
      "outputs": [
        {
          "output_type": "execute_result",
          "data": {
            "text/plain": [
              "Index(['relevant_experience', 'job_change'], dtype='object')"
            ]
          },
          "metadata": {},
          "execution_count": 55
        }
      ]
    },
    {
      "cell_type": "code",
      "source": [
        "#Find how many missing values in the columns 'relevant_experience' and 'job_change'. Calculate how many missing values compare to the total row in percent\n",
        "print(ds_jobs_transformed['relevant_experience'].isna().sum())\n",
        "print(ds_jobs_transformed['job_change'].isna().sum())\n",
        "print(round(ds_jobs_transformed['relevant_experience'].isna().sum()/ds_jobs_transformed.shape[0]*100,2))\n",
        "print(round(ds_jobs_transformed['job_change'].isna().sum()/ds_jobs_transformed.shape[0]*100,2))"
      ],
      "metadata": {
        "colab": {
          "base_uri": "https://localhost:8080/"
        },
        "id": "HuazTvumT2W_",
        "outputId": "f67f1271-5122-4876-a78e-28e2698978be"
      },
      "id": "HuazTvumT2W_",
      "execution_count": 56,
      "outputs": [
        {
          "output_type": "stream",
          "name": "stdout",
          "text": [
            "0\n",
            "0\n",
            "0.0\n",
            "0.0\n"
          ]
        }
      ]
    },
    {
      "cell_type": "code",
      "source": [
        "#get the unique value from the columns 'relevant_experience' and 'job_change'\n",
        "print(ds_jobs_transformed['relevant_experience'].unique())\n",
        "print(ds_jobs_transformed['job_change'].unique())"
      ],
      "metadata": {
        "colab": {
          "base_uri": "https://localhost:8080/"
        },
        "id": "uUvvPAXpUbbO",
        "outputId": "9c713570-8cf2-46ac-ed13-12017b517957"
      },
      "id": "uUvvPAXpUbbO",
      "execution_count": 57,
      "outputs": [
        {
          "output_type": "stream",
          "name": "stdout",
          "text": [
            "['Has relevant experience' 'No relevant experience']\n",
            "[1. 0.]\n"
          ]
        }
      ]
    },
    {
      "cell_type": "code",
      "source": [
        "#Create the dictionary for mapping the above values to the boolean value\n",
        "two_factor_cats = {\n",
        " \"relevant_experience\": {\"Has relevant experience\": True, \"No relevant experience\": False},\n",
        " \"job_change\": {1.0: True, 0.0: False}\n",
        "}"
      ],
      "metadata": {
        "id": "XLWvqGW0VKp_"
      },
      "id": "XLWvqGW0VKp_",
      "execution_count": 58,
      "outputs": []
    },
    {
      "cell_type": "markdown",
      "source": [
        "##Prepare the numerical column (`int` and `float`)"
      ],
      "metadata": {
        "id": "5Tnheqk8Vn3l"
      },
      "id": "5Tnheqk8Vn3l"
    },
    {
      "cell_type": "code",
      "source": [
        "#find the column with numeric datatype and print the column names\n",
        "print(ds_jobs_transformed.select_dtypes(include=['int64']).columns)\n",
        "print(ds_jobs_transformed.select_dtypes(include=['float64']).columns)"
      ],
      "metadata": {
        "colab": {
          "base_uri": "https://localhost:8080/"
        },
        "id": "-8O3_2jAVmEw",
        "outputId": "2fcc1153-184b-4eac-abc0-b44606998287"
      },
      "id": "-8O3_2jAVmEw",
      "execution_count": 59,
      "outputs": [
        {
          "output_type": "stream",
          "name": "stdout",
          "text": [
            "Index(['student_id', 'training_hours'], dtype='object')\n",
            "Index(['city_development_index', 'job_change'], dtype='object')\n"
          ]
        }
      ]
    },
    {
      "cell_type": "markdown",
      "source": [
        "We can just ignore the `'job_change'` column since it is the 2-factor column.\n",
        "- The `int` column are `'student_id'` and `'training_hours'`\n",
        "- The `float` column is `'city_development_index'`"
      ],
      "metadata": {
        "id": "Ilhgy8qYWaka"
      },
      "id": "Ilhgy8qYWaka"
    },
    {
      "cell_type": "markdown",
      "source": [
        "##Prepare the categorical column"
      ],
      "metadata": {
        "id": "YDh1qxdCXY65"
      },
      "id": "YDh1qxdCXY65"
    },
    {
      "cell_type": "code",
      "source": [
        "#Find the column that can be 'category' type from the 'object' type\n",
        "list_of_objcol = ds_jobs_transformed.select_dtypes(include=['object']).columns\n",
        "print(list_of_objcol)\n",
        "\n",
        "#Find the datatype in each member of list_of_objcol\n",
        "for col in list_of_objcol:\n",
        "    print(ds_jobs_transformed[col].value_counts(), '\\n')"
      ],
      "metadata": {
        "colab": {
          "base_uri": "https://localhost:8080/"
        },
        "id": "RAAqqSZKWRoE",
        "outputId": "a752a66b-017b-473e-da08-85479b66befd"
      },
      "id": "RAAqqSZKWRoE",
      "execution_count": 60,
      "outputs": [
        {
          "output_type": "stream",
          "name": "stdout",
          "text": [
            "Index(['city', 'gender', 'relevant_experience', 'enrolled_university',\n",
            "       'education_level', 'major_discipline', 'experience', 'company_size',\n",
            "       'company_type', 'last_new_job'],\n",
            "      dtype='object')\n",
            "city\n",
            "city_103    4355\n",
            "city_21     2702\n",
            "city_16     1533\n",
            "city_114    1336\n",
            "city_160     845\n",
            "            ... \n",
            "city_129       3\n",
            "city_111       3\n",
            "city_121       3\n",
            "city_140       1\n",
            "city_171       1\n",
            "Name: count, Length: 123, dtype: int64 \n",
            "\n",
            "gender\n",
            "Male      13221\n",
            "Female     1238\n",
            "Other       191\n",
            "Name: count, dtype: int64 \n",
            "\n",
            "relevant_experience\n",
            "Has relevant experience    13792\n",
            "No relevant experience      5366\n",
            "Name: count, dtype: int64 \n",
            "\n",
            "enrolled_university\n",
            "no_enrollment       13817\n",
            "Full time course     3757\n",
            "Part time course     1198\n",
            "Name: count, dtype: int64 \n",
            "\n",
            "education_level\n",
            "Graduate          11598\n",
            "Masters            4361\n",
            "High School        2017\n",
            "Phd                 414\n",
            "Primary School      308\n",
            "Name: count, dtype: int64 \n",
            "\n",
            "major_discipline\n",
            "STEM               14492\n",
            "Humanities           669\n",
            "Other                381\n",
            "Business Degree      327\n",
            "Arts                 253\n",
            "No Major             223\n",
            "Name: count, dtype: int64 \n",
            "\n",
            "experience\n",
            ">20    3286\n",
            "5      1430\n",
            "4      1403\n",
            "3      1354\n",
            "6      1216\n",
            "2      1127\n",
            "7      1028\n",
            "10      985\n",
            "9       980\n",
            "8       802\n",
            "15      686\n",
            "11      664\n",
            "14      586\n",
            "1       549\n",
            "<1      522\n",
            "16      508\n",
            "12      494\n",
            "13      399\n",
            "17      342\n",
            "19      304\n",
            "18      280\n",
            "20      148\n",
            "Name: count, dtype: int64 \n",
            "\n",
            "company_size\n",
            "50-99        3083\n",
            "100-499      2571\n",
            "10000+       2019\n",
            "10-49        1471\n",
            "1000-4999    1328\n",
            "<10          1308\n",
            "500-999       877\n",
            "5000-9999     563\n",
            "Name: count, dtype: int64 \n",
            "\n",
            "company_type\n",
            "Pvt Ltd                9817\n",
            "Funded Startup         1001\n",
            "Public Sector           955\n",
            "Early Stage Startup     603\n",
            "NGO                     521\n",
            "Other                   121\n",
            "Name: count, dtype: int64 \n",
            "\n",
            "last_new_job\n",
            "1        8040\n",
            ">4       3290\n",
            "2        2900\n",
            "never    2452\n",
            "4        1029\n",
            "3        1024\n",
            "Name: count, dtype: int64 \n",
            "\n"
          ]
        }
      ]
    },
    {
      "cell_type": "markdown",
      "source": [
        "From the above output, we can divided the catrgorical data into the following:\n",
        "- Nominal :\n",
        "  - city\n",
        "  - gender\n",
        "  - major_discipline\n",
        "  - company_type\n",
        "- Ordinal :\n",
        "  - enrolled_university\n",
        "  - education_level\n",
        "  - experience\n",
        "  - company_size\n",
        "  - last_new_job"
      ],
      "metadata": {
        "id": "otBIU0TBY7aF"
      },
      "id": "otBIU0TBY7aF"
    },
    {
      "cell_type": "code",
      "source": [
        "#Create the dictionary to define the ordinal categories for each column\n",
        "ordinal_cats = {\n",
        "    \"enrolled_university\": [\"no_enrollment\", \"Full time course\", \"Part time course\"],\n",
        "    \"education_level\": [\"Primary School\", \"High School\", \"Graduate\", \"Masters\", \"Phd\"],\n",
        "    \"experience\": [\"<1\"] + list(map(str, range(1, 21))) + [\">20\"],\n",
        "    \"company_size\": [\"<10\", \"10-49\", \"50-99\", \"100-499\", \"500-999\", \"1000-4999\", \"5000-9999\", \"10000+\"],\n",
        "    \"last_new_job\": [\"never\"] + list(map(str, range(1, 5))) + [\">4\"]\n",
        "}"
      ],
      "metadata": {
        "id": "o_3x44XrYo_a"
      },
      "id": "o_3x44XrYo_a",
      "execution_count": 61,
      "outputs": []
    },
    {
      "cell_type": "markdown",
      "source": [
        "##Data transformation part"
      ],
      "metadata": {
        "id": "lXG--xXLalUf"
      },
      "id": "lXG--xXLalUf"
    },
    {
      "source": [
        "#After explore the unique value in potential 2 factors columns.\n",
        "#Columns with 2 factors: relevant_experience, job_change\n",
        "#Columns with int64: student_id, training_hours\n",
        "#Columns with float64: city_development_index , job_change(need to change into 2-factor)\n",
        "#Nominal(can't aggregate, cat dog pen) : city, gender,enrolled_university, major_discipline, company_type\n",
        "#Ordinal(may able to aggregate, 1 to 5 likes etc) : education_level, experience?, company_size?,last_new_job\n",
        "\n",
        "# create the for loop to transform each type of columns\n",
        "for col in ds_jobs_transformed.columns:\n",
        "  if col in two_factor_cats.keys():\n",
        "      ds_jobs_transformed[col] = ds_jobs_transformed[col].map(two_factor_cats[col])\n",
        "  elif col in ordinal_cats.keys():\n",
        "      ds_jobs_transformed[col] = ds_jobs_transformed[col].astype(\"category\").cat.reorder_categories(new_categories=ordinal_cats[col], ordered=True)\n",
        "  elif col in [\"student_id\", \"training_hours\"]:\n",
        "      ds_jobs_transformed[col] = ds_jobs_transformed[col].astype(\"int32\")\n",
        "  elif col == \"city_development_index\":\n",
        "      ds_jobs_transformed[col] = ds_jobs_transformed[col].astype(\"float16\")\n",
        "  else: #other nominal categorical data\n",
        "      ds_jobs_transformed[col] = ds_jobs_transformed[col].astype(\"category\")\n",
        "\n",
        "#filter the DataFrame to only contain students with 10 or more years of experience at companies with at least 1000 employees.\n",
        "ds_jobs_transformed = ds_jobs_transformed[(ds_jobs_transformed[\"experience\"] >= \"10\") & (ds_jobs_transformed[\"company_size\"] >= \"1000-4999\")]"
      ],
      "metadata": {
        "executionCancelledAt": null,
        "executionTime": 12,
        "lastExecutedAt": 1729162739848,
        "lastExecutedByKernel": "1e4465b3-6381-4372-ba28-cec700f557bd",
        "lastScheduledRunId": null,
        "lastSuccessfullyExecutedCode": "#explore the unique value in potential 2 factors columns.\n#Columns with 2 factors: relevant_experience, job_change\n#Columns with int64: student_id, training_hours\n#Columns with float64: city_development_index , job_change(need to change into 2-factor)\n#Nominal(can't aggregate, cat dog pen) : city, gender,enrolled_university, major_discipline, company_type\n#Ordinal(may able to aggregate, 1 to 5 likes etc) : education_level, experience?, company_size?,last_new_job\n\n#ds_jobs_transformed['relevant_experience'].sort_values(ascending=True)\nds_jobs_transformed['last_new_job'].unique()",
        "outputsMetadata": {
          "0": {
            "height": 543,
            "type": "dataFrame"
          }
        },
        "id": "3504561c-4fd3-450f-b66a-5c1efc984a0d"
      },
      "cell_type": "code",
      "id": "3504561c-4fd3-450f-b66a-5c1efc984a0d",
      "outputs": [],
      "execution_count": 62
    },
    {
      "cell_type": "markdown",
      "source": [
        "#The Final result of memory saving\n",
        "See how the new dataframe ('ds_jobs_transformed') used memory less than the original dataframe ('ds_job')."
      ],
      "metadata": {
        "id": "-pNwWAe3cAXj"
      },
      "id": "-pNwWAe3cAXj"
    },
    {
      "cell_type": "code",
      "source": [
        "#See how the new dataframe ('ds_jobs_transformed') used memory less than the original dataframe ('ds_job'). in byte\n",
        "old_memory= ds_jobs.memory_usage(deep=True).sum()\n",
        "new_memory = ds_jobs_transformed.memory_usage(deep=True).sum()\n",
        "\n",
        "#print to show the comparison and make the bar plot\n",
        "print(f\"The old dataframe used up memory: {round(old_memory/1024**2,2)} MB\")\n",
        "print(f\"The new dataframe used up memory: {round(new_memory/1024**2,2)} MB\")\n",
        "\n",
        "#plot the bar chart of these two values\n",
        "import matplotlib.pyplot as plt\n",
        "plt.bar([\"Old Dataframe\", \"New Dataframe\"], [round(old_memory/1024**2,2), round(new_memory/1024**2,2)])\n",
        "#set the label for y and x axis\n",
        "plt.ylabel(\"Memory Usage (MB)\")\n",
        "plt.xlabel(\"Dataframe\")\n",
        "#show\n",
        "plt.show()"
      ],
      "metadata": {
        "colab": {
          "base_uri": "https://localhost:8080/",
          "height": 486
        },
        "id": "YJ4nf932b9gn",
        "outputId": "9e97b288-794e-4bcf-ab4a-b49ef3f65e36"
      },
      "id": "YJ4nf932b9gn",
      "execution_count": 63,
      "outputs": [
        {
          "output_type": "stream",
          "name": "stdout",
          "text": [
            "The old dataframe used up memory: 11.82 MB\n",
            "The new dataframe used up memory: 0.08 MB\n"
          ]
        },
        {
          "output_type": "display_data",
          "data": {
            "text/plain": [
              "<Figure size 640x480 with 1 Axes>"
            ],
            "image/png": "[encoded data removed]"
          },
          "metadata": {}
        }
      ]
    }
  ],
  "metadata": {
    "language_info": {
      "name": "python",
      "version": "3.8.10",
      "mimetype": "text/x-python",
      "codemirror_mode": {
        "name": "ipython",
        "version": 3
      },
      "pygments_lexer": "ipython3",
      "nbconvert_exporter": "python",
      "file_extension": ".py"
    },
    "kernelspec": {
      "display_name": "Python 3 (ipykernel)",
      "language": "python",
      "name": "python3"
    },
    "editor": "DataLab",
    "colab": {
      "provenance": [],
      "include_colab_link": true
    }
  },
  "nbformat": 4,
  "nbformat_minor": 5
}