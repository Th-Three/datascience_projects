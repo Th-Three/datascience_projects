{
  "nbformat": 4,
  "nbformat_minor": 0,
  "metadata": {
    "colab": {
      "provenance": []
    },
    "kernelspec": {
      "name": "python3",
      "display_name": "Python 3"
    },
    "language_info": {
      "name": "python"
    }
  },
  "cells": [
    {
      "cell_type": "markdown",
      "source": [
        "# Homework Essential Python for DA\n",
        "- write OOP to create ATM, with 4-5 method\n",
        "    - attribute: name, bank, balance\n",
        "    - method: login to ATM, check balance, deposit, withdrawn, transfer\n",
        "    - Extra: create terminal like as a menu function for ATM."
      ],
      "metadata": {
        "id": "jw-FiCJO0Qql"
      }
    },
    {
      "cell_type": "code",
      "execution_count": null,
      "metadata": {
        "id": "36Tp4PHqzs1O"
      },
      "outputs": [],
      "source": [
        "#create a simple ATM Class\n",
        "class ATMmachine():\n",
        "  def __init__(self, name, account_id, bank_name, balance, pincode):\n",
        "    self.name = name\n",
        "    self.account_id = account_id\n",
        "    self.bank_name = bank_name\n",
        "    self.balance = balance\n",
        "    self.pincode = pincode\n",
        "\n",
        "  #create string representation\n",
        "  def __str__(self):\n",
        "    return f\"---\\nName: {self.name}\\nACC ID: {self.account_id}\\nBank Name: {self.bank_name}\\nBalance: {self.balance}\\n---\"\n",
        "\n",
        "  #create login methods\n",
        "  def logintoATM(self):\n",
        "    #get input and change into string\n",
        "    input_pin = input(\"Please enter pincode: \")\n",
        "    if input_pin != self.pincode: #check the pincode\n",
        "      print(\"Incorrect pincode. Please try again\")\n",
        "    else:\n",
        "      print(\"Correct pincode.\")\n",
        "    return f\"Welcome: {self.name}\"\n",
        "\n",
        "  #create check the balance method\n",
        "  def check_balance(self):\n",
        "    return f\"---\\nThe account current balance is: {self.balance}\\n---\"\n",
        "\n",
        "  #create deposit methods\n",
        "  def deposit(self, input_deposit):\n",
        "    self.balance += input_deposit #Subtract from balance\n",
        "    #tell remaining balance and ask to take money\n",
        "    return f\"---\\nDeposit successful.\\nAmount deposit: +{input_deposit}\\nNew balance: {self.balance}\\nPlease Take your money\\n---\"\n",
        "\n",
        "  #create withdrawn methods\n",
        "  def withdrawn(self, prefer_withdrawns):\n",
        "    # Check the input amount first\n",
        "    if prefer_withdrawns > self.balance: #Over balance\n",
        "      return f\"---\\nInsufficient balance.\\nInput amount: {prefer_withdrawns}\\nCurrent balance: {self.balance}\\n---\"\n",
        "    elif prefer_withdrawns <= 0: #Invalid amount\n",
        "      return f\"---\\nInvalid amount.Please input again\\nInput withdrawn: {prefer_withdrawns}\\nCurrent balance: {self.balance}\\n---\"\n",
        "    else: #Correct amount\n",
        "      self.balance -= prefer_withdrawns\n",
        "      return f\"---\\nWithdrawn successful.\\nAmount withdrawn: -{prefer_withdrawns}\\nNew balance: {self.balance}\\n---\"\n",
        "\n",
        "  #create the transfer methods\n",
        "  def transfer(self, input_transfer, destination_id):\n",
        "    #check the input amount first\n",
        "    if input_transfer > self.balance: #Over balance\n",
        "      return f\"---\\nInsufficient balance.\\nInput amount: {input_transfer}\\nCurrent balance: {self.balance}\\n---\"\n",
        "    elif input_transfer <= 0: #Invalid amount\n",
        "      return f\"---\\nInvalid amount.Please input again\\nInput transfer: {input_transfer}\\nCurrent balance: {self.balance}\\n---\"\n",
        "    else: #Correct amount\n",
        "      #in case correct account ID\n",
        "      print(f\"Transfering to account: {destination_id}\")\n",
        "      self.balance -= input_transfer\n",
        "      return f\"Transfer successful.\\nAmount transfer: -{input_transfer}\\nNew balance: {self.balance}\\n---\"\n"
      ]
    },
    {
      "cell_type": "code",
      "source": [
        "#Declare the users of ATM machines\n",
        "user1 = ATMmachine(\"Toy\", \"012345\", \"SCB\", 10000, \"090909\")\n",
        "user2 = ATMmachine(\"Yot\", \"543210\", \"KTB\", 20000, \"909090\")\n",
        "user3 = ATMmachine(\"ToyDog\", \"987654\", \"KBANK\", 50000, \"112358\")\n",
        "user4 = ATMmachine(\"YotCat\", \"456789\", \"KBANK\", 100000, \"147258\")\n",
        "\n",
        "#keep users in the list for future use\n",
        "AllBankACC = [user1,user2,user3,user4]"
      ],
      "metadata": {
        "id": "3aWmdIreVhTZ"
      },
      "execution_count": null,
      "outputs": []
    },
    {
      "cell_type": "code",
      "source": [
        "#We can write the terminal function for using atm machine from here\n",
        "def ATMterminal(user):\n",
        "  print(\"Welcome to ATM Machine\")\n",
        "  #user already insert card\n",
        "  #had user login first\n",
        "  resultlogin = user.logintoATM()\n",
        "  #check the pincode\n",
        "  if resultlogin == f\"Welcome: {user.name}\":\n",
        "    print(user)\n",
        "  else:\n",
        "    return \"Incorrect pincode, Card push out\"\n",
        "\n",
        "  #loop over all from here to repeat select after finish each transaction\n",
        "  while True:\n",
        "    #user already login\n",
        "    #Give user choice to select function\n",
        "    print(\"Please select your transcation:\\n1. Check balance\\n2. Deposit\\n3. Withdraw\\n4. Transfer\\n5. Abort\")\n",
        "    choice = input(\"Enter your choice: \")\n",
        "    while choice not in [\"1\", \"2\", \"3\", \"4\",\"5\"]:\n",
        "      print(\"Invalid choice. Please try again.\")\n",
        "      choice = input(\"Enter your choice: \")\n",
        "    #Go to each menu for each choice\n",
        "    if choice == \"1\":\n",
        "      #just print the balance\n",
        "      print(user.check_balance())\n",
        "    elif choice == \"2\":\n",
        "      deposit = int(input(\"Enter amount to deposit: \"))\n",
        "      print(user.deposit(deposit))\n",
        "    elif choice == \"3\":\n",
        "      withdraw = int(input(\"Enter amount to withdraw: \"))\n",
        "      print(user.withdrawn(withdraw))\n",
        "    elif choice == \"4\":\n",
        "      transfer = int(input(\"Enter amount to transfer: \"))\n",
        "      destination_id = input(\"Enter destination account ID: \")\n",
        "      #create new list without user\n",
        "      newAllBankACC = [dest_user for dest_user in AllBankACC if dest_user != user]\n",
        "      #check the destination account ID\n",
        "      while destination_id not in [dest_user.account_id for dest_user in newAllBankACC]:\n",
        "        print(\"Invalid account ID. Please try again.\")\n",
        "        destination_id = input(\"Enter destination account ID: \")\n",
        "      #if found destination id deposit to account with destination id\n",
        "      for dest_user in newAllBankACC:\n",
        "        if dest_user.account_id == destination_id:\n",
        "          #deposit the amount of transfer into destination account\n",
        "          dest_user.deposit(transfer)\n",
        "          print(f\"Destination Account Name: {dest_user.name}\\nDestination Bank Name: {dest_user.bank_name}\")\n",
        "          break\n",
        "      print(user.transfer(transfer, destination_id))\n",
        "    elif choice == \"5\":\n",
        "      print(\"Transaction aborted.\")\n",
        "      break\n",
        "    else:\n",
        "      print(\"Invalid choice. Please try again. Card push out\")\n"
      ],
      "metadata": {
        "id": "Qmre5HtuVY3f"
      },
      "execution_count": null,
      "outputs": []
    },
    {
      "cell_type": "code",
      "source": [
        "#Use terminal function to access atm machine of user1 (or other user)\n",
        "ATMterminal(user1)"
      ],
      "metadata": {
        "colab": {
          "base_uri": "https://localhost:8080/"
        },
        "id": "tRJb45sVaxn5",
        "outputId": "271dc4c8-80f4-4bf7-f636-26ec4f3de399"
      },
      "execution_count": null,
      "outputs": [
        {
          "output_type": "stream",
          "name": "stdout",
          "text": [
            "Welcome to ATM Machine\n",
            "Please enter pincode: 090909\n",
            "Correct pincode.\n",
            "---\n",
            "Name: Toy\n",
            "ACC ID: 012345\n",
            "Bank Name: SCB\n",
            "Balance: 10000\n",
            "---\n",
            "Please select your transcation:\n",
            "1. Check balance\n",
            "2. Deposit\n",
            "3. Withdraw\n",
            "4. Transfer\n",
            "5. Abort\n",
            "Enter your choice: 4\n",
            "Enter amount to transfer: 1000\n",
            "Enter destination account ID: 987654\n",
            "Destination Account Name: ToyDog\n",
            "Destination Bank Name: KBANK\n",
            "---\n",
            "Transfering to account: 987654\n",
            "Transfer successful.\n",
            "Amount transfer: -1000\n",
            "New balance: 9000\n",
            "---\n",
            "Please select your transcation:\n",
            "1. Check balance\n",
            "2. Deposit\n",
            "3. Withdraw\n",
            "4. Transfer\n",
            "5. Abort\n",
            "Enter your choice: 2\n",
            "Enter amount to deposit: 4000\n",
            "---\n",
            "Deposit successful.\n",
            "Amount deposit: +4000\n",
            "New balance: 13000\n",
            "Please Take your money\n",
            "---\n",
            "Please select your transcation:\n",
            "1. Check balance\n",
            "2. Deposit\n",
            "3. Withdraw\n",
            "4. Transfer\n",
            "5. Abort\n",
            "Enter your choice: 5\n",
            "Transaction aborted.\n"
          ]
        }
      ]
    },
    {
      "cell_type": "code",
      "source": [
        "#This part is for testing each methods of ATMmachines\n",
        "print(user1)\n",
        "user1.logintoATM()\n",
        "#in case of corrected pincode\n",
        "print(user1.check_balance())\n",
        "print(user1.deposit(2000))\n",
        "print(user1.withdrawn(1000))\n",
        "print(user1.transfer(5000, \"543210\"))\n"
      ],
      "metadata": {
        "colab": {
          "base_uri": "https://localhost:8080/"
        },
        "id": "YtzRvPXrzvyi",
        "outputId": "ba63ce64-5763-4e0f-b3c3-ae81156b526d"
      },
      "execution_count": null,
      "outputs": [
        {
          "output_type": "stream",
          "name": "stdout",
          "text": [
            "---\n",
            "Name: Toy\n",
            "ACC ID: 012345\n",
            "Bank Name: SCB\n",
            "Balance: 13000\n",
            "---\n",
            "Please enter pincode: 090909\n",
            "Correct pincode.\n",
            "---\n",
            "The account current balance is: 13000\n",
            "---\n",
            "---\n",
            "Deposit successful.\n",
            "Amount deposit: +2000\n",
            "New balance: 15000\n",
            "Please Take your money\n",
            "---\n",
            "---\n",
            "Withdrawn successful.\n",
            "Amount withdrawn: -1000\n",
            "New balance: 14000\n",
            "---\n",
            "---\n",
            "Transfering to account: 543210\n",
            "Transfer successful.\n",
            "Amount transfer: -5000\n",
            "New balance: 9000\n",
            "---\n"
          ]
        }
      ]
    },
    {
      "cell_type": "code",
      "source": [],
      "metadata": {
        "id": "a6F7rb3gfT61"
      },
      "execution_count": null,
      "outputs": []
    }
  ]
}