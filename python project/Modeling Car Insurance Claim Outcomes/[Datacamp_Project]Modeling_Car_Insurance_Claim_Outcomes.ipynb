{
  "cells": [
    {
      "cell_type": "markdown",
      "metadata": {
        "id": "view-in-github",
        "colab_type": "text"
      },
      "source": [
        "<a href=\"https://colab.research.google.com/github/Th-Three/datascience_projects/blob/main/python%20project/Modeling%20Car%20Insurance%20Claim%20Outcomes/%5BDatacamp_Project%5DModeling_Car_Insurance_Claim_Outcomes.ipynb\" target=\"_parent\"><img src=\"https://colab.research.google.com/assets/colab-badge.svg\" alt=\"Open In Colab\"/></a>"
      ]
    },
    {
      "source": [
        "Insurance companies invest a lot of [time and money](https://www.accenture.com/_acnmedia/pdf-84/accenture-machine-leaning-insurance.pdf) into optimizing their pricing and accurately estimating the likelihood that customers will make a claim. In many countries insurance it is a legal requirement to have car insurance in order to drive a vehicle on public roads, so the market is very large!\n",
        "\n",
        "Knowing all of this, On the Road car insurance have requested your services in building a model to predict whether a customer will make a claim on their insurance during the policy period. As they have very little expertise and infrastructure for deploying and monitoring machine learning models, they've asked you to identify the single feature that results in the best performing model, as measured by accuracy, so they can start with a simple model in production.\n",
        "\n",
        "They have supplied you with their customer data as a csv file called `car_insurance.csv`, along with a table detailing the column names and descriptions below."
      ],
      "metadata": {
        "id": "c3f0e974-faf8-458f-bf2a-06a469d0ea5e"
      },
      "id": "c3f0e974-faf8-458f-bf2a-06a469d0ea5e",
      "cell_type": "markdown"
    },
    {
      "source": [
        "\n",
        "\n",
        "## The dataset\n",
        "\n",
        "| Column | Description |\n",
        "|--------|-------------|\n",
        "| `id` | Unique client identifier |\n",
        "| `age` | Client's age: <br> <ul><li>`0`: 16-25</li><li>`1`: 26-39</li><li>`2`: 40-64</li><li>`3`: 65+</li></ul> |\n",
        "| `gender` | Client's gender: <br> <ul><li>`0`: Female</li><li>`1`: Male</li></ul> |\n",
        "| `driving_experience` | Years the client has been driving: <br> <ul><li>`0`: 0-9</li><li>`1`: 10-19</li><li>`2`: 20-29</li><li>`3`: 30+</li></ul> |\n",
        "| `education` | Client's level of education: <br> <ul><li>`0`: No education</li><li>`1`: High school</li><li>`2`: University</li></ul> |\n",
        "| `income` | Client's income level: <br> <ul><li>`0`: Poverty</li><li>`1`: Working class</li><li>`2`: Middle class</li><li>`3`: Upper class</li></ul> |\n",
        "| `credit_score` | Client's credit score (between zero and one) |\n",
        "| `vehicle_ownership` | Client's vehicle ownership status: <br><ul><li>`0`: Does not own their vehilce (paying off finance)</li><li>`1`: Owns their vehicle</li></ul> |\n",
        "| `vehcile_year` | Year of vehicle registration: <br><ul><li>`0`: Before 2015</li><li>`1`: 2015 or later</li></ul> |\n",
        "| `married` | Client's marital status: <br><ul><li>`0`: Not married</li><li>`1`: Married</li></ul> |\n",
        "| `children` | Client's number of children |\n",
        "| `postal_code` | Client's postal code |\n",
        "| `annual_mileage` | Number of miles driven by the client each year |\n",
        "| `vehicle_type` | Type of car: <br> <ul><li>`0`: Sedan</li><li>`1`: Sports car</li></ul> |\n",
        "| `speeding_violations` | Total number of speeding violations received by the client |\n",
        "| `duis` | Number of times the client has been caught driving under the influence of alcohol |\n",
        "| `past_accidents` | Total number of previous accidents the client has been involved in |\n",
        "| `outcome` | Whether the client made a claim on their car insurance (response variable): <br><ul><li>`0`: No claim</li><li>`1`: Made a claim</li></ul> |"
      ],
      "metadata": {
        "id": "8928ffdf-25d6-4ad9-909f-0dd8d10b9a42"
      },
      "id": "8928ffdf-25d6-4ad9-909f-0dd8d10b9a42",
      "cell_type": "markdown"
    },
    {
      "source": [
        "# Import required modules\n",
        "import pandas as pd\n",
        "import numpy as np\n",
        "from statsmodels.formula.api import logit\n",
        "\n",
        "# Start coding!"
      ],
      "metadata": {
        "executionTime": 11,
        "id": "d0eb4f16-5a99-460d-a5ba-706b7ef0bbe7",
        "lastSuccessfullyExecutedCode": "# Import required modules\nimport pandas as pd\nimport numpy as np\nfrom statsmodels.formula.api import logit"
      },
      "id": "d0eb4f16-5a99-460d-a5ba-706b7ef0bbe7",
      "cell_type": "code",
      "execution_count": 1,
      "outputs": []
    },
    {
      "cell_type": "markdown",
      "source": [
        "##Task\n",
        "- Identify the single feature of the data that is the best predictor of whether a customer will put in a claim (the `\"outcome\"` column), excluding the `\"id\"` column.\n",
        "- Store as a DataFrame called `best_feature_df`, containing columns named `\"best_feature\"` and `\"best_accuracy\"` with the name of the feature with the highest accuracy, and the respective accuracy score."
      ],
      "metadata": {
        "id": "uUfi4E3RIP-U"
      },
      "id": "uUfi4E3RIP-U"
    },
    {
      "cell_type": "code",
      "source": [
        "#Read the dataset\n",
        "car_insurance = pd.read_csv('car_insurance.csv')"
      ],
      "metadata": {
        "id": "FZnTTWW9Iglo"
      },
      "id": "FZnTTWW9Iglo",
      "execution_count": 2,
      "outputs": []
    },
    {
      "cell_type": "code",
      "source": [
        "#Explor the dataset\n",
        "print('head:\\n')\n",
        "print(car_insurance.head())\n",
        "print('info:\\n')\n",
        "print(car_insurance.info())\n",
        "print('describe:\\n')\n",
        "print(car_insurance.describe())\n",
        "print('Find missing values:')\n",
        "print(car_insurance.isnull().sum())"
      ],
      "metadata": {
        "colab": {
          "base_uri": "https://localhost:8080/"
        },
        "id": "iffMSAMKJ3I-",
        "outputId": "26f8b59c-ff91-48be-c591-94f9fbecffe2"
      },
      "id": "iffMSAMKJ3I-",
      "execution_count": 3,
      "outputs": [
        {
          "output_type": "stream",
          "name": "stdout",
          "text": [
            "head:\n",
            "\n",
            "       id  age  gender driving_experience    education         income  \\\n",
            "0  569520    3       0               0-9y  high school    upper class   \n",
            "1  750365    0       1               0-9y         none        poverty   \n",
            "2  199901    0       0               0-9y  high school  working class   \n",
            "3  478866    0       1               0-9y   university  working class   \n",
            "4  731664    1       1             10-19y         none  working class   \n",
            "\n",
            "   credit_score  vehicle_ownership vehicle_year  married  children  \\\n",
            "0      0.629027                1.0   after 2015      0.0       1.0   \n",
            "1      0.357757                0.0  before 2015      0.0       0.0   \n",
            "2      0.493146                1.0  before 2015      0.0       0.0   \n",
            "3      0.206013                1.0  before 2015      0.0       1.0   \n",
            "4      0.388366                1.0  before 2015      0.0       0.0   \n",
            "\n",
            "   postal_code  annual_mileage vehicle_type  speeding_violations  duis  \\\n",
            "0        10238         12000.0        sedan                    0     0   \n",
            "1        10238         16000.0        sedan                    0     0   \n",
            "2        10238         11000.0        sedan                    0     0   \n",
            "3        32765         11000.0        sedan                    0     0   \n",
            "4        32765         12000.0        sedan                    2     0   \n",
            "\n",
            "   past_accidents  outcome  \n",
            "0               0      0.0  \n",
            "1               0      1.0  \n",
            "2               0      0.0  \n",
            "3               0      0.0  \n",
            "4               1      1.0  \n",
            "info:\n",
            "\n",
            "<class 'pandas.core.frame.DataFrame'>\n",
            "RangeIndex: 10000 entries, 0 to 9999\n",
            "Data columns (total 18 columns):\n",
            " #   Column               Non-Null Count  Dtype  \n",
            "---  ------               --------------  -----  \n",
            " 0   id                   10000 non-null  int64  \n",
            " 1   age                  10000 non-null  int64  \n",
            " 2   gender               10000 non-null  int64  \n",
            " 3   driving_experience   10000 non-null  object \n",
            " 4   education            10000 non-null  object \n",
            " 5   income               10000 non-null  object \n",
            " 6   credit_score         9018 non-null   float64\n",
            " 7   vehicle_ownership    10000 non-null  float64\n",
            " 8   vehicle_year         10000 non-null  object \n",
            " 9   married              10000 non-null  float64\n",
            " 10  children             10000 non-null  float64\n",
            " 11  postal_code          10000 non-null  int64  \n",
            " 12  annual_mileage       9043 non-null   float64\n",
            " 13  vehicle_type         10000 non-null  object \n",
            " 14  speeding_violations  10000 non-null  int64  \n",
            " 15  duis                 10000 non-null  int64  \n",
            " 16  past_accidents       10000 non-null  int64  \n",
            " 17  outcome              10000 non-null  float64\n",
            "dtypes: float64(6), int64(7), object(5)\n",
            "memory usage: 1.4+ MB\n",
            "None\n",
            "describe:\n",
            "\n",
            "                  id           age        gender  credit_score  \\\n",
            "count   10000.000000  10000.000000  10000.000000   9018.000000   \n",
            "mean   500521.906800      1.489500      0.499000      0.515813   \n",
            "std    290030.768758      1.025278      0.500024      0.137688   \n",
            "min       101.000000      0.000000      0.000000      0.053358   \n",
            "25%    249638.500000      1.000000      0.000000      0.417191   \n",
            "50%    501777.000000      1.000000      0.000000      0.525033   \n",
            "75%    753974.500000      2.000000      1.000000      0.618312   \n",
            "max    999976.000000      3.000000      1.000000      0.960819   \n",
            "\n",
            "       vehicle_ownership       married      children   postal_code  \\\n",
            "count       10000.000000  10000.000000  10000.000000  10000.000000   \n",
            "mean            0.697000      0.498200      0.688800  19864.548400   \n",
            "std             0.459578      0.500022      0.463008  18915.613855   \n",
            "min             0.000000      0.000000      0.000000  10238.000000   \n",
            "25%             0.000000      0.000000      0.000000  10238.000000   \n",
            "50%             1.000000      0.000000      1.000000  10238.000000   \n",
            "75%             1.000000      1.000000      1.000000  32765.000000   \n",
            "max             1.000000      1.000000      1.000000  92101.000000   \n",
            "\n",
            "       annual_mileage  speeding_violations         duis  past_accidents  \\\n",
            "count     9043.000000         10000.000000  10000.00000    10000.000000   \n",
            "mean     11697.003207             1.482900      0.23920        1.056300   \n",
            "std       2818.434528             2.241966      0.55499        1.652454   \n",
            "min       2000.000000             0.000000      0.00000        0.000000   \n",
            "25%      10000.000000             0.000000      0.00000        0.000000   \n",
            "50%      12000.000000             0.000000      0.00000        0.000000   \n",
            "75%      14000.000000             2.000000      0.00000        2.000000   \n",
            "max      22000.000000            22.000000      6.00000       15.000000   \n",
            "\n",
            "            outcome  \n",
            "count  10000.000000  \n",
            "mean       0.313300  \n",
            "std        0.463858  \n",
            "min        0.000000  \n",
            "25%        0.000000  \n",
            "50%        0.000000  \n",
            "75%        1.000000  \n",
            "max        1.000000  \n",
            "Find missing values:\n",
            "id                       0\n",
            "age                      0\n",
            "gender                   0\n",
            "driving_experience       0\n",
            "education                0\n",
            "income                   0\n",
            "credit_score           982\n",
            "vehicle_ownership        0\n",
            "vehicle_year             0\n",
            "married                  0\n",
            "children                 0\n",
            "postal_code              0\n",
            "annual_mileage         957\n",
            "vehicle_type             0\n",
            "speeding_violations      0\n",
            "duis                     0\n",
            "past_accidents           0\n",
            "outcome                  0\n",
            "dtype: int64\n"
          ]
        }
      ]
    },
    {
      "cell_type": "code",
      "source": [
        "#decide what to do with missing values\n",
        "#imputation on missing value with 0\n",
        "#car_insurance = car_insurance.fillna(0)\n",
        "\n",
        "#imputation the missing value with the mean\n",
        "car_insurance['annual_mileage'] = car_insurance['annual_mileage'].fillna(car_insurance['annual_mileage'].mean())\n",
        "car_insurance['credit_score'] = car_insurance['credit_score'].fillna(car_insurance['credit_score'].mean())\n",
        "\n",
        "#drop missing values\n",
        "#car_insurance = car_insurance.dropna()\n"
      ],
      "metadata": {
        "id": "3ywRW8c9KSdq"
      },
      "id": "3ywRW8c9KSdq",
      "execution_count": 4,
      "outputs": []
    },
    {
      "cell_type": "code",
      "source": [
        "#Explor the dataset\n",
        "print('head:\\n')\n",
        "print(car_insurance.head())\n",
        "print('info:\\n')\n",
        "print(car_insurance.info())\n",
        "print('describe:\\n')\n",
        "print(car_insurance.describe())\n",
        "print('Find missing values:')\n",
        "print(car_insurance.isnull().sum())"
      ],
      "metadata": {
        "colab": {
          "base_uri": "https://localhost:8080/"
        },
        "id": "akdP_bmldR4G",
        "outputId": "1dd06cf5-cc50-435d-8567-b546ed191610"
      },
      "id": "akdP_bmldR4G",
      "execution_count": 5,
      "outputs": [
        {
          "output_type": "stream",
          "name": "stdout",
          "text": [
            "head:\n",
            "\n",
            "       id  age  gender driving_experience    education         income  \\\n",
            "0  569520    3       0               0-9y  high school    upper class   \n",
            "1  750365    0       1               0-9y         none        poverty   \n",
            "2  199901    0       0               0-9y  high school  working class   \n",
            "3  478866    0       1               0-9y   university  working class   \n",
            "4  731664    1       1             10-19y         none  working class   \n",
            "\n",
            "   credit_score  vehicle_ownership vehicle_year  married  children  \\\n",
            "0      0.629027                1.0   after 2015      0.0       1.0   \n",
            "1      0.357757                0.0  before 2015      0.0       0.0   \n",
            "2      0.493146                1.0  before 2015      0.0       0.0   \n",
            "3      0.206013                1.0  before 2015      0.0       1.0   \n",
            "4      0.388366                1.0  before 2015      0.0       0.0   \n",
            "\n",
            "   postal_code  annual_mileage vehicle_type  speeding_violations  duis  \\\n",
            "0        10238         12000.0        sedan                    0     0   \n",
            "1        10238         16000.0        sedan                    0     0   \n",
            "2        10238         11000.0        sedan                    0     0   \n",
            "3        32765         11000.0        sedan                    0     0   \n",
            "4        32765         12000.0        sedan                    2     0   \n",
            "\n",
            "   past_accidents  outcome  \n",
            "0               0      0.0  \n",
            "1               0      1.0  \n",
            "2               0      0.0  \n",
            "3               0      0.0  \n",
            "4               1      1.0  \n",
            "info:\n",
            "\n",
            "<class 'pandas.core.frame.DataFrame'>\n",
            "RangeIndex: 10000 entries, 0 to 9999\n",
            "Data columns (total 18 columns):\n",
            " #   Column               Non-Null Count  Dtype  \n",
            "---  ------               --------------  -----  \n",
            " 0   id                   10000 non-null  int64  \n",
            " 1   age                  10000 non-null  int64  \n",
            " 2   gender               10000 non-null  int64  \n",
            " 3   driving_experience   10000 non-null  object \n",
            " 4   education            10000 non-null  object \n",
            " 5   income               10000 non-null  object \n",
            " 6   credit_score         10000 non-null  float64\n",
            " 7   vehicle_ownership    10000 non-null  float64\n",
            " 8   vehicle_year         10000 non-null  object \n",
            " 9   married              10000 non-null  float64\n",
            " 10  children             10000 non-null  float64\n",
            " 11  postal_code          10000 non-null  int64  \n",
            " 12  annual_mileage       10000 non-null  float64\n",
            " 13  vehicle_type         10000 non-null  object \n",
            " 14  speeding_violations  10000 non-null  int64  \n",
            " 15  duis                 10000 non-null  int64  \n",
            " 16  past_accidents       10000 non-null  int64  \n",
            " 17  outcome              10000 non-null  float64\n",
            "dtypes: float64(6), int64(7), object(5)\n",
            "memory usage: 1.4+ MB\n",
            "None\n",
            "describe:\n",
            "\n",
            "                  id           age        gender  credit_score  \\\n",
            "count   10000.000000  10000.000000  10000.000000  10000.000000   \n",
            "mean   500521.906800      1.489500      0.499000      0.515813   \n",
            "std    290030.768758      1.025278      0.500024      0.130752   \n",
            "min       101.000000      0.000000      0.000000      0.053358   \n",
            "25%    249638.500000      1.000000      0.000000      0.431509   \n",
            "50%    501777.000000      1.000000      0.000000      0.515813   \n",
            "75%    753974.500000      2.000000      1.000000      0.607607   \n",
            "max    999976.000000      3.000000      1.000000      0.960819   \n",
            "\n",
            "       vehicle_ownership       married      children   postal_code  \\\n",
            "count       10000.000000  10000.000000  10000.000000  10000.000000   \n",
            "mean            0.697000      0.498200      0.688800  19864.548400   \n",
            "std             0.459578      0.500022      0.463008  18915.613855   \n",
            "min             0.000000      0.000000      0.000000  10238.000000   \n",
            "25%             0.000000      0.000000      0.000000  10238.000000   \n",
            "50%             1.000000      0.000000      1.000000  10238.000000   \n",
            "75%             1.000000      1.000000      1.000000  32765.000000   \n",
            "max             1.000000      1.000000      1.000000  92101.000000   \n",
            "\n",
            "       annual_mileage  speeding_violations         duis  past_accidents  \\\n",
            "count    10000.000000         10000.000000  10000.00000    10000.000000   \n",
            "mean     11697.003207             1.482900      0.23920        1.056300   \n",
            "std       2680.167384             2.241966      0.55499        1.652454   \n",
            "min       2000.000000             0.000000      0.00000        0.000000   \n",
            "25%      10000.000000             0.000000      0.00000        0.000000   \n",
            "50%      11697.003207             0.000000      0.00000        0.000000   \n",
            "75%      13000.000000             2.000000      0.00000        2.000000   \n",
            "max      22000.000000            22.000000      6.00000       15.000000   \n",
            "\n",
            "            outcome  \n",
            "count  10000.000000  \n",
            "mean       0.313300  \n",
            "std        0.463858  \n",
            "min        0.000000  \n",
            "25%        0.000000  \n",
            "50%        0.000000  \n",
            "75%        1.000000  \n",
            "max        1.000000  \n",
            "Find missing values:\n",
            "id                     0\n",
            "age                    0\n",
            "gender                 0\n",
            "driving_experience     0\n",
            "education              0\n",
            "income                 0\n",
            "credit_score           0\n",
            "vehicle_ownership      0\n",
            "vehicle_year           0\n",
            "married                0\n",
            "children               0\n",
            "postal_code            0\n",
            "annual_mileage         0\n",
            "vehicle_type           0\n",
            "speeding_violations    0\n",
            "duis                   0\n",
            "past_accidents         0\n",
            "outcome                0\n",
            "dtype: int64\n"
          ]
        }
      ]
    },
    {
      "cell_type": "code",
      "source": [
        "#prepare the model\n",
        "#create an empty list to store the models\n",
        "models_list = []\n",
        "\n",
        "#make new df with no 'outcome' and 'id' columns from car_insurance\n",
        "car_insurance_features = car_insurance.drop(['outcome','id'], axis=1)\n",
        "\n",
        "#loop throuch every possible features from col\n",
        "for col in car_insurance_features:\n",
        "  #fit each col in the logistic regression model\n",
        "  model = logit(f\"outcome~{col}\", data=car_insurance).fit()\n",
        "  #append the model to the list\n",
        "  models_list.append(model)\n"
      ],
      "metadata": {
        "colab": {
          "base_uri": "https://localhost:8080/"
        },
        "id": "Mldn_u5VKSbc",
        "outputId": "f6e5ba0b-cac6-48a1-a9c9-83baf8c56ff0"
      },
      "id": "Mldn_u5VKSbc",
      "execution_count": 7,
      "outputs": [
        {
          "output_type": "stream",
          "name": "stdout",
          "text": [
            "Optimization terminated successfully.\n",
            "         Current function value: 0.511794\n",
            "         Iterations 6\n",
            "Optimization terminated successfully.\n",
            "         Current function value: 0.615951\n",
            "         Iterations 5\n",
            "Optimization terminated successfully.\n",
            "         Current function value: 0.467092\n",
            "         Iterations 8\n",
            "Optimization terminated successfully.\n",
            "         Current function value: 0.603742\n",
            "         Iterations 5\n",
            "Optimization terminated successfully.\n",
            "         Current function value: 0.531499\n",
            "         Iterations 6\n",
            "Optimization terminated successfully.\n",
            "         Current function value: 0.572557\n",
            "         Iterations 6\n",
            "Optimization terminated successfully.\n",
            "         Current function value: 0.552412\n",
            "         Iterations 5\n",
            "Optimization terminated successfully.\n",
            "         Current function value: 0.572668\n",
            "         Iterations 6\n",
            "Optimization terminated successfully.\n",
            "         Current function value: 0.586659\n",
            "         Iterations 5\n",
            "Optimization terminated successfully.\n",
            "         Current function value: 0.595431\n",
            "         Iterations 5\n",
            "Optimization terminated successfully.\n",
            "         Current function value: 0.617345\n",
            "         Iterations 5\n",
            "Optimization terminated successfully.\n",
            "         Current function value: 0.605716\n",
            "         Iterations 5\n",
            "Optimization terminated successfully.\n",
            "         Current function value: 0.621700\n",
            "         Iterations 5\n",
            "Optimization terminated successfully.\n",
            "         Current function value: 0.558922\n",
            "         Iterations 7\n",
            "Optimization terminated successfully.\n",
            "         Current function value: 0.598699\n",
            "         Iterations 6\n",
            "Optimization terminated successfully.\n",
            "         Current function value: 0.549220\n",
            "         Iterations 7\n"
          ]
        }
      ]
    },
    {
      "cell_type": "code",
      "source": [
        "#Measurring performance\n",
        "#make empty list to store accuracy\n",
        "accuracies_list = []\n",
        "confusion_matrix_list = []\n",
        "#loop for to get the accuracy from each models in the models_list\n",
        "for model in models_list:\n",
        "  #get confusion matrix\n",
        "  confusion_matrix = model.pred_table()\n",
        "  #calculate accuracy\n",
        "  accuracy = (confusion_matrix[0][0] + confusion_matrix[1][1]) / np.sum(confusion_matrix)\n",
        "  #append the accuracy\n",
        "  accuracies_list.append(accuracy)\n",
        "  #append the confusion matrix list\n",
        "  confusion_matrix_list.append(confusion_matrix)\n",
        "\n",
        "print(accuracies_list)\n",
        "print(confusion_matrix_list)"
      ],
      "metadata": {
        "colab": {
          "base_uri": "https://localhost:8080/"
        },
        "id": "6aTwDJmmbL30",
        "outputId": "eef15930-34b7-4a45-9e59-2c55ee28d5a8"
      },
      "id": "6aTwDJmmbL30",
      "execution_count": 11,
      "outputs": [
        {
          "output_type": "stream",
          "name": "stdout",
          "text": [
            "[0.7747, 0.6867, 0.7771, 0.6867, 0.7425, 0.7054, 0.7351, 0.6867, 0.6867, 0.6867, 0.6867, 0.6904, 0.6867, 0.6867, 0.6867, 0.6867]\n",
            "[array([[6299.,  568.],\n",
            "       [1685., 1448.]]), array([[6867.,    0.],\n",
            "       [3133.,    0.]]), array([[5554., 1313.],\n",
            "       [ 916., 2217.]]), array([[6867.,    0.],\n",
            "       [3133.,    0.]]), array([[6239.,  628.],\n",
            "       [1947., 1186.]]), array([[6321.,  546.],\n",
            "       [2400.,  733.]]), array([[5594., 1273.],\n",
            "       [1376., 1757.]]), array([[6867.,    0.],\n",
            "       [3133.,    0.]]), array([[6867.,    0.],\n",
            "       [3133.,    0.]]), array([[6867.,    0.],\n",
            "       [3133.,    0.]]), array([[6867.,    0.],\n",
            "       [3133.,    0.]]), array([[6801.,   66.],\n",
            "       [3030.,  103.]]), array([[6867.,    0.],\n",
            "       [3133.,    0.]]), array([[6867.,    0.],\n",
            "       [3133.,    0.]]), array([[6867.,    0.],\n",
            "       [3133.,    0.]]), array([[6867.,    0.],\n",
            "       [3133.,    0.]])]\n"
          ]
        }
      ]
    },
    {
      "cell_type": "code",
      "source": [
        "#Find the best performance\n",
        "best_feature = car_insurance_features.columns[np.argmax(accuracies_list)]\n",
        "\n",
        "#save best feature\n",
        "best_feature_df = pd.DataFrame({'best_feature': [best_feature], 'best_accuracy': [np.max(accuracies_list)]})\n",
        "\n",
        "print(best_feature_df)\n",
        "\n",
        "#Find the confusion matrix of best feature\n",
        "best_confusion_matrix = confusion_matrix_list[np.argmax(accuracies_list)]\n",
        "\n",
        "#print(best_confusion_matrix)\n",
        "\n",
        "best_acc = (best_confusion_matrix[0][0] + best_confusion_matrix[1][1]) / np.sum(best_confusion_matrix)\n",
        "best_precision = best_confusion_matrix[1][1] / (best_confusion_matrix[1][1] + best_confusion_matrix[0][1])\n",
        "best_recall = best_confusion_matrix[1][1] / (best_confusion_matrix[1][1] + best_confusion_matrix[1][0])\n",
        "best_f1 = 2 * (best_precision * best_recall) / (best_precision + best_recall)\n",
        "\n",
        "print(f\"\\nAccuracy: {best_acc}\")\n",
        "print(f\"Precision: {best_precision}\")\n",
        "print(f\"Recall: {best_recall}\")\n",
        "print(f\"F1 Score: {best_f1}\")"
      ],
      "metadata": {
        "colab": {
          "base_uri": "https://localhost:8080/"
        },
        "id": "PPH--8mgcLdw",
        "outputId": "da4b72d3-c32b-4242-9283-f11f5d9b864e"
      },
      "id": "PPH--8mgcLdw",
      "execution_count": 16,
      "outputs": [
        {
          "output_type": "stream",
          "name": "stdout",
          "text": [
            "         best_feature  best_accuracy\n",
            "0  driving_experience         0.7771\n",
            "\n",
            "Accuracy: 0.7771\n",
            "Precision: 0.6280453257790368\n",
            "Recall: 0.7076284711139483\n",
            "F1 Score: 0.6654660063034669\n"
          ]
        }
      ]
    }
  ],
  "metadata": {
    "colab": {
      "provenance": [],
      "include_colab_link": true
    },
    "kernelspec": {
      "display_name": "Python 3 (ipykernel)",
      "language": "python",
      "name": "python3"
    },
    "language_info": {
      "name": "python",
      "version": "3.8.10",
      "mimetype": "text/x-python",
      "codemirror_mode": {
        "name": "ipython",
        "version": 3
      },
      "pygments_lexer": "ipython3",
      "nbconvert_exporter": "python",
      "file_extension": ".py"
    },
    "vscode": {
      "interpreter": {
        "hash": "aee8b7b246df8f9039afb4144a1f6fd8d2ca17a180786b69acc140d282b71a49"
      }
    },
    "editor": "DataCamp Workspace"
  },
  "nbformat": 4,
  "nbformat_minor": 5
}